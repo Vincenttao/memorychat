{
 "cells": [
  {
   "cell_type": "code",
   "id": "91633d368d4d985e",
   "metadata": {
    "collapsed": true
   },
   "source": [
    "from flask import url_for, Flask\n",
    "\n",
    "from app.services.utils import StoryManagement, UserManagement, PhotoManagement, MessageService\n",
    "from app.models.models import User, Photo, Story, Message\n",
    "from mongoengine import connect\n",
    "from instance.config import DevelopmentConfig\n",
    "from instance.config import TestingConfig\n",
    "\n",
    "connect(host=TestingConfig.MONGO_URI)\n",
    "user = UserManagement(User)\n",
    "message_manager = MessageService(User, Message)"
   ],
   "outputs": [],
   "execution_count": null
  },
  {
   "metadata": {},
   "cell_type": "code",
   "source": [
    "try:\n",
    "    new_user = user.add(user_id=\"001\", username=\"john_doe\", password=\"123\", phone_no=\"1234567890\")\n",
    "    print(f\"User created successfully: {new_user.username}\")\n",
    "except Exception as e:\n",
    "    print(f\"An error occurred: {e}\")"
   ],
   "id": "81919adcfac194f8",
   "outputs": [],
   "execution_count": null
  },
  {
   "metadata": {},
   "cell_type": "code",
   "source": [
    "try:\n",
    "    new_message = message_manager.add_message(user_id='001', sender='user', message_type='text', content='这是一次愉快的聚会', related_photo_id='66361994e8eb220e315529da')\n",
    "    print(f\"Message created successfully: {new_message}\")\n",
    "except Exception as e:\n",
    "    print(f\"An error occurred: {e}\")"
   ],
   "id": "9d86bce2453b8c30",
   "outputs": [],
   "execution_count": null
  },
  {
   "metadata": {},
   "cell_type": "code",
   "source": [
    "\n",
    "\n",
    "app = Flask(__name__)\n",
    "app.config.from_object(TestingConfig)\n",
    "connect(host=app.config['MONGO_URI'])\n"
   ],
   "id": "2494fb7b05d63e60",
   "outputs": [],
   "execution_count": null
  },
  {
   "metadata": {},
   "cell_type": "code",
   "source": [
    "photo_manager = PhotoManagement(User, Photo)\n",
    "\n",
    "for i in range(1, 11):\n",
    "    image_url = f'upload_img/img{i}.jpg'  # 格式化字符串生成正确的文件名\n",
    "    print(image_url)\n",
    "    try:\n",
    "        # 调用upload_photo方法上传照片\n",
    "        new_photo = photo_manager.upload_photo(user_id='001',\n",
    "                                               image_url=image_url,\n",
    "                                               description='A test photo')\n",
    "        print(f\"Photo created successfully: {image_url}\")\n",
    "    except Exception as e:\n",
    "        print(f\"An error occurred: {e}\")\n"
   ],
   "id": "e851f630bb2577",
   "outputs": [],
   "execution_count": null
  },
  {
   "metadata": {},
   "cell_type": "code",
   "source": [
    "\n",
    "\n",
    "with app.app_context():\n",
    "    image_url = url_for('static', filename='upload_img/img10.jpg')\n",
    "    print(image_url)\n",
    "    photo_manager = PhotoManagement(User, Photo)\n",
    "    try:\n",
    "        new_photo = photo_manager.upload_photo(user_id='001',\n",
    "                                               image_url=image_url,\n",
    "                                               description='A test photo')\n",
    "        print(f\"Photo created successfully: {image_url}\")\n",
    "    except Exception as e:\n",
    "        print(f\"An error occurred: {e}\")"
   ],
   "id": "initial_id",
   "outputs": [],
   "execution_count": null
  },
  {
   "metadata": {},
   "cell_type": "code",
   "source": [
    "from app.services.llm_models import QwenModel\n",
    "DASHSCOPE_API_KEY = \"sk-8e8c1f43b5cd43a8be031bb5ea6c0376\""
   ],
   "id": "b849668c40a3e43f",
   "outputs": [],
   "execution_count": null
  },
  {
   "metadata": {},
   "cell_type": "code",
   "source": "qwen_model = QwenModel(api_key=DASHSCOPE_API_KEY)",
   "id": "9bc7f7d6e902624c",
   "outputs": [],
   "execution_count": null
  },
  {
   "metadata": {},
   "cell_type": "code",
   "source": [
    "input_data = {\n",
    "    \"messages\":[{'role': 'system', 'content': 'You are a helpful assistant.'}, {'role': 'user', 'content': '如何做西红柿炖牛腩？'}, {'role': 'assistant', 'content': '材料：\\n牛腩500克，西红柿3个，大葱1根，生姜2片，八角2颗，香叶2片，桂皮1小块，干辣椒3个，料酒适量，老抽适量，生抽适量，冰糖30克，盐适量，清水适量。\\n\\n步骤：\\n\\n1. 牛腩切块，用清水浸泡半小时，去除血水和杂质。然后捞出沥干备用。\\n\\n2. 热锅凉油，加入冰糖小火慢慢熬化，糖色变红后加入牛腩块，翻煎至两面微黄，这样可以去腥增香。\\n\\n3. 加入切好的姜片，大葱段，八角，香叶，桂皮和干辣椒，翻炒均匀。\\n\\n4. 倒入足够的料酒，煮至酒精挥发，然后加入老抽和生抽，继续翻炒使牛肉上色。\\n\\n5. 倒入足够的清水，水量要没过牛肉，大火烧开后撇去浮沫。\\n\\n6. 转中小火，盖上锅盖炖煮约1小时，直到牛肉变得软烂。\\n\\n7. 这时候打开锅盖，加入切好的西红柿块，继续炖煮15-20分钟，让西红柿的酸甜味道融入牛肉中。\\n\\n8. 最后根据个人口味加盐调味，收汁即可。如果喜欢更浓郁的味道，可以适当勾芡。\\n\\n9. 出锅前撒上一些葱花或者香菜作为装饰，一道美味的西红柿炖牛腩就完成了。\\n\\n注意事项：\\n- 牛腩选择带筋的部位，炖出来的肉更有嚼劲。\\n- 炖煮过程中要保持中小火，避免糊锅。\\n- 西红柿可以根据个人喜好选择去皮或者不去皮，去皮口感会更好。'}, {'role': 'user', 'content': '不放糖可以吗？'}]\n",
    "    }"
   ],
   "id": "367da8707dec39da",
   "outputs": [],
   "execution_count": null
  },
  {
   "metadata": {},
   "cell_type": "code",
   "source": "[{'role': 'system', 'content': 'You are a helpful assistant.'}, {'role': 'user', 'content': '如何做西红柿炖牛腩？'}, {'role': 'assistant', 'content': '材料：\\n牛腩500克，西红柿3个，大葱1根，生姜2片，八角2颗，香叶2片，桂皮1小块，干辣椒3个，料酒适量，老抽适量，生抽适量，冰糖30克，盐适量，清水适量。\\n\\n步骤：\\n\\n1. 牛腩切块，用清水浸泡半小时，去除血水和杂质。然后捞出沥干备用。\\n\\n2. 热锅凉油，加入冰糖小火慢慢熬化，糖色变红后加入牛腩块，翻煎至两面微黄，这样可以去腥增香。\\n\\n3. 加入切好的姜片，大葱段，八角，香叶，桂皮和干辣椒，翻炒均匀。\\n\\n4. 倒入足够的料酒，煮至酒精挥发，然后加入老抽和生抽，继续翻炒使牛肉上色。\\n\\n5. 倒入足够的清水，水量要没过牛肉，大火烧开后撇去浮沫。\\n\\n6. 转中小火，盖上锅盖炖煮约1小时，直到牛肉变得软烂。\\n\\n7. 这时候打开锅盖，加入切好的西红柿块，继续炖煮15-20分钟，让西红柿的酸甜味道融入牛肉中。\\n\\n8. 最后根据个人口味加盐调味，收汁即可。如果喜欢更浓郁的味道，可以适当勾芡。\\n\\n9. 出锅前撒上一些葱花或者香菜作为装饰，一道美味的西红柿炖牛腩就完成了。\\n\\n注意事项：\\n- 牛腩选择带筋的部位，炖出来的肉更有嚼劲。\\n- 炖煮过程中要保持中小火，避免糊锅。\\n- 西红柿可以根据个人喜好选择去皮或者不去皮，去皮口感会更好。'}, {'role': 'user', 'content': '不放糖可以吗？'}]",
   "id": "c72e12e4fb6e0c36",
   "outputs": [],
   "execution_count": null
  },
  {
   "metadata": {},
   "cell_type": "code",
   "source": "response = qwen_model.call_model(input_data)",
   "id": "c39c601186060bf8",
   "outputs": [],
   "execution_count": null
  },
  {
   "metadata": {},
   "cell_type": "code",
   "source": "print(response)",
   "id": "895b42051fecbe33",
   "outputs": [],
   "execution_count": null
  },
  {
   "metadata": {},
   "cell_type": "code",
   "source": "qwen_model.get_usage_tokens()",
   "id": "d9d3685d3a56b01a",
   "outputs": [],
   "execution_count": null
  },
  {
   "metadata": {},
   "cell_type": "code",
   "source": "",
   "id": "c9bdb0f7f5394322",
   "outputs": [],
   "execution_count": null
  },
  {
   "metadata": {},
   "cell_type": "code",
   "source": [
    "from http import HTTPStatus\n",
    "import dashscope"
   ],
   "id": "da9d1cea6a33378b",
   "outputs": [],
   "execution_count": null
  },
  {
   "metadata": {},
   "cell_type": "code",
   "source": [
    "def call_with_messages():\n",
    "    messages = [{'role': 'system', 'content': 'You are a helpful assistant.'},\n",
    "                {'role': 'user', 'content': '如何做炒西红柿鸡蛋？'}]\n",
    "\n",
    "    response = dashscope.Generation.call(\n",
    "        dashscope.Generation.Models.qwen_turbo,\n",
    "        messages=messages,\n",
    "        result_format='message',  # set the result to be \"message\" format.\n",
    "    )\n",
    "    if response.status_code == HTTPStatus.OK:\n",
    "        print(response)\n",
    "    else:\n",
    "        print('Request id: %s, Status code: %s, error code: %s, error message: %s' % (\n",
    "            response.request_id, response.status_code,\n",
    "            response.code, response.message\n",
    "        ))"
   ],
   "id": "b243c5660e3dd512",
   "outputs": [],
   "execution_count": null
  },
  {
   "metadata": {},
   "cell_type": "code",
   "source": "call_with_messages()",
   "id": "5e24026977dcf298",
   "outputs": [],
   "execution_count": null
  },
  {
   "metadata": {},
   "cell_type": "code",
   "source": [
    "from http import HTTPStatus\n",
    "from dashscope import Generation\n",
    "\n",
    "\n",
    "def multi_round():\n",
    "    messages = [{'role': 'system', 'content': 'You are a helpful assistant.'},\n",
    "                {'role': 'user', 'content': '如何做西红柿炖牛腩？'}]\n",
    "    response = Generation.call(model=\"qwen-turbo\",\n",
    "                               messages=messages,\n",
    "                               # 将输出设置为\"message\"格式\n",
    "                               result_format='message')\n",
    "    if response.status_code == HTTPStatus.OK:\n",
    "        print(response)\n",
    "        # 将assistant的回复添加到messages列表中\n",
    "        messages.append({'role': response.output.choices[0]['message']['role'],\n",
    "                         'content': response.output.choices[0]['message']['content']})\n",
    "    else:\n",
    "        print('Request id: %s, Status code: %s, error code: %s, error message: %s' % (\n",
    "            response.request_id, response.status_code,\n",
    "            response.code, response.message\n",
    "        ))\n",
    "        # 如果响应失败，将最后一条user message从messages列表里删除，确保user/assistant消息交替出现\n",
    "        messages = messages[:-1]\n",
    "    # 将新一轮的user问题添加到messages列表中\n",
    "    messages.append({'role': 'user', 'content': '不放糖可以吗？'})\n",
    "    print(messages)\n",
    "    # 进行第二轮模型的响应\n",
    "    response = Generation.call(model=\"qwen-turbo\",\n",
    "                               messages=messages,\n",
    "                               result_format='message',  # 将输出设置为\"message\"格式\n",
    "                               )\n",
    "    if response.status_code == HTTPStatus.OK:\n",
    "        print(response)\n",
    "    else:\n",
    "        print('Request id: %s, Status code: %s, error code: %s, error message: %s' % (\n",
    "            response.request_id, response.status_code,\n",
    "            response.code, response.message\n",
    "        ))\n",
    "\n"
   ],
   "id": "69824c3c909a990a",
   "outputs": [],
   "execution_count": null
  },
  {
   "metadata": {},
   "cell_type": "code",
   "source": "multi_round()",
   "id": "54c7b29ac8c0f108",
   "outputs": [],
   "execution_count": null
  },
  {
   "metadata": {},
   "cell_type": "code",
   "source": [
    "from app.services.utils import MessageService\n",
    "from app.models.models import User,Message\n",
    "from instance.config import TestingConfig\n",
    "from mongoengine import connect\n",
    "\n",
    "connect(host=TestingConfig.MONGO_URI)"
   ],
   "id": "bdd4464d66cf8a6a",
   "outputs": [],
   "execution_count": null
  },
  {
   "metadata": {},
   "cell_type": "code",
   "source": "message_service = MessageService(User,Message)",
   "id": "c6e7b0e630c7cf09",
   "outputs": [],
   "execution_count": null
  },
  {
   "metadata": {},
   "cell_type": "code",
   "source": "messages = message_service.retrieve_photo_message('001','66361994e8eb220e315529da')",
   "id": "e8a922b22688ac7c",
   "outputs": [],
   "execution_count": null
  },
  {
   "metadata": {},
   "cell_type": "code",
   "source": "print(messages)",
   "id": "2f2891e5712f0381",
   "outputs": [],
   "execution_count": null
  },
  {
   "metadata": {},
   "cell_type": "code",
   "source": [
    "messages_list = [{\n",
    "            'sender': message.sender,\n",
    "            'message_type': message.message_type,\n",
    "            'content': message.content,\n",
    "            'timestamp': message.timestamp.strftime('%Y-%m-%d %H:%M:%S'),\n",
    "            'related_photo_id': str(message.related_photo_id.id) if message.related_photo_id else None\n",
    "        } for message in reversed(messages)]"
   ],
   "id": "bbbea830daa19abc",
   "outputs": [],
   "execution_count": null
  },
  {
   "metadata": {},
   "cell_type": "code",
   "source": "print(messages_list)",
   "id": "e4f11bff68fd240f",
   "outputs": [],
   "execution_count": null
  },
  {
   "metadata": {},
   "cell_type": "code",
   "source": "from app.services.prompt import PromptBuilder",
   "id": "f20f9424d980a712",
   "outputs": [],
   "execution_count": null
  },
  {
   "metadata": {},
   "cell_type": "code",
   "source": "pb = PromptBuilder()",
   "id": "24db05d91d14eae8",
   "outputs": [],
   "execution_count": null
  },
  {
   "metadata": {},
   "cell_type": "code",
   "source": [
    "for message in messages_list:\n",
    "    pb.add_history(message['sender'], message['content'])"
   ],
   "id": "5c5ab983c19c728f",
   "outputs": [],
   "execution_count": null
  },
  {
   "metadata": {},
   "cell_type": "code",
   "source": "pb.build()",
   "id": "b7cb7d951bf0e97",
   "outputs": [],
   "execution_count": null
  },
  {
   "metadata": {},
   "cell_type": "code",
   "source": "from app.services.ai_agent import Agent",
   "id": "cb6149d9f6b908a8",
   "outputs": [],
   "execution_count": null
  },
  {
   "metadata": {},
   "cell_type": "code",
   "source": [
    "from app.services.llm_models import QwenModel\n",
    "from app.services.prompt import PromptBuilder"
   ],
   "id": "153f5675344b9708",
   "outputs": [],
   "execution_count": null
  },
  {
   "metadata": {},
   "cell_type": "code",
   "source": [
    "from app.services.utils import MessageService\n",
    "from app.models.models import User,Message,Photo"
   ],
   "id": "59ae934a25f1dc87",
   "outputs": [],
   "execution_count": null
  },
  {
   "metadata": {},
   "cell_type": "code",
   "source": "qwen_model = QwenModel(\"sk-8e8c1f43b5cd43a8be031bb5ea6c0376\")",
   "id": "66981e95ce08ff22",
   "outputs": [],
   "execution_count": null
  },
  {
   "metadata": {},
   "cell_type": "code",
   "source": "message_service = MessageService(User,Message)",
   "id": "902b7f8034c5d46b",
   "outputs": [],
   "execution_count": null
  },
  {
   "metadata": {},
   "cell_type": "code",
   "source": [
    "from instance.config import TestingConfig\n",
    "from mongoengine import connect\n",
    "\n",
    "connect(host=TestingConfig.MONGO_URI)\n",
    "\n",
    "messages = message_service.retrieve_photo_message('001','66361994e8eb220e315529da')"
   ],
   "id": "744bc63cfc58845f",
   "outputs": [],
   "execution_count": null
  },
  {
   "metadata": {},
   "cell_type": "code",
   "source": [
    "messages_list = [{\n",
    "            'sender': message.sender,\n",
    "            'message_type': message.message_type,\n",
    "            'content': message.content,\n",
    "            'timestamp': message.timestamp.strftime('%Y-%m-%d %H:%M:%S'),\n",
    "            'related_photo_id': str(message.related_photo_id.id) if message.related_photo_id else None\n",
    "        } for message in reversed(messages)]"
   ],
   "id": "8f9b43e7eb48b5c0",
   "outputs": [],
   "execution_count": null
  },
  {
   "metadata": {},
   "cell_type": "code",
   "source": "pb = PromptBuilder(\"你是一个认知判断机器人，请根据用户的谈话记录，判断他可能的认知水平\")",
   "id": "19776e0c087ecfc8",
   "outputs": [],
   "execution_count": null
  },
  {
   "metadata": {},
   "cell_type": "code",
   "source": "agent = Agent(qwen_model,pb)",
   "id": "d8d5001446af7ad3",
   "outputs": [],
   "execution_count": null
  },
  {
   "metadata": {},
   "cell_type": "code",
   "source": "response = agent.conversation(messages_list)",
   "id": "291cf123b108cb8b",
   "outputs": [],
   "execution_count": null
  },
  {
   "metadata": {},
   "cell_type": "code",
   "source": "print(response)",
   "id": "fab6ea6f23a956d",
   "outputs": [],
   "execution_count": null
  },
  {
   "metadata": {},
   "cell_type": "code",
   "source": "pb = PromptBuilder(\"你是一个认知判断机器人，请根据用户的谈话记录，判断他可能的认知水平\")",
   "id": "54494ac28bff9daa",
   "outputs": [],
   "execution_count": null
  },
  {
   "metadata": {},
   "cell_type": "code",
   "source": "response = agent.send_message(messages_list)",
   "id": "2d5265afdb545533",
   "outputs": [],
   "execution_count": null
  },
  {
   "metadata": {},
   "cell_type": "code",
   "source": [
    "from app.services.llm_models import QwenModel\n",
    "from app.services.ai_agent import Agent\n",
    "from instance.config import DASHSCOPE_API_KEY\n",
    "\n",
    "\n",
    "qwen_turbo_model = QwenModel(DASHSCOPE_API_KEY,\"qwen-turbo\")\n",
    "qwen_max_model = QwenModel(DASHSCOPE_API_KEY,\"qwen-max\")\n",
    "\n",
    "qwen_turbo_agent = Agent(qwen_turbo_model)\n",
    "qwen_max_agent = Agent(qwen_max_model)"
   ],
   "id": "f329cf0a37faee4e",
   "outputs": [],
   "execution_count": null
  },
  {
   "metadata": {},
   "cell_type": "code",
   "source": "from app.services.system_prompt import *",
   "id": "c771aa321350b638",
   "outputs": [],
   "execution_count": null
  },
  {
   "metadata": {},
   "cell_type": "code",
   "source": "",
   "id": "fcbb68ecb6b537cb",
   "outputs": [],
   "execution_count": null
  },
  {
   "metadata": {},
   "cell_type": "code",
   "source": [
    "sys_prompt = recall_memory_sys_prompt + photo_pre_description_prompt + \"北京王府井大街\"\n",
    "init_message = qwen_max_agent.conversation(sys_prompt, [ {'sender': 'user', 'content': '请以”让我们开始回忆之旅吧“开头，直接开始对话'}])"
   ],
   "id": "9ea51289ca017d7b",
   "outputs": [],
   "execution_count": null
  },
  {
   "metadata": {},
   "cell_type": "code",
   "source": "print(init_message)",
   "id": "c32f60275a8f965b",
   "outputs": [],
   "execution_count": null
  },
  {
   "metadata": {
    "ExecuteTime": {
     "end_time": "2024-05-19T03:53:16.187369Z",
     "start_time": "2024-05-19T03:53:15.269754Z"
    }
   },
   "cell_type": "code",
   "source": [
    "from instance.config import DASHSCOPE_API_KEY\n",
    "from app.services.llm_models import QwenModel"
   ],
   "id": "ea31bde369b41f4c",
   "outputs": [],
   "execution_count": 1
  },
  {
   "metadata": {
    "ExecuteTime": {
     "end_time": "2024-05-19T03:53:18.092496Z",
     "start_time": "2024-05-19T03:53:18.080447Z"
    }
   },
   "cell_type": "code",
   "source": "qwen_model = QwenModel(DASHSCOPE_API_KEY)",
   "id": "ceb3b27f1dc2fa79",
   "outputs": [],
   "execution_count": 2
  },
  {
   "metadata": {
    "ExecuteTime": {
     "end_time": "2024-05-19T03:53:19.477538Z",
     "start_time": "2024-05-19T03:53:19.464449Z"
    }
   },
   "cell_type": "code",
   "source": [
    "sys_prompt = \"你是一位聪明的治疗室，请根据我的发言，给我回答\"\n",
    "user_input = \"如何查询天气预报\""
   ],
   "id": "6e1d8590b0c78b5f",
   "outputs": [],
   "execution_count": 3
  },
  {
   "metadata": {
    "ExecuteTime": {
     "end_time": "2024-05-19T03:53:32.657337Z",
     "start_time": "2024-05-19T03:53:20.501545Z"
    }
   },
   "cell_type": "code",
   "source": "response_text = qwen_model.call_model(sys_prompt,user_input)",
   "id": "8d002481d4429a07",
   "outputs": [
    {
     "name": "stderr",
     "output_type": "stream",
     "text": [
      "2024-05-19 11:53:20.505 | INFO     | app.services.llm_models:call_model:57 - in call_model, the body is{'model': 'qwen-turbo', 'input': {'messages': [{'role': 'system', 'content': '你是一位聪明的治疗室，请根据我的发言，给我回答'}, {'role': 'user', 'content': '如何查询天气预报'}]}}\n"
     ]
    }
   ],
   "execution_count": 4
  },
  {
   "metadata": {
    "ExecuteTime": {
     "end_time": "2024-05-19T03:53:54.138875Z",
     "start_time": "2024-05-19T03:53:54.033889Z"
    }
   },
   "cell_type": "code",
   "source": "print(response_text)",
   "id": "d7c0b8cd82686285",
   "outputs": [
    {
     "name": "stdout",
     "output_type": "stream",
     "text": [
      "查询天气预报的方法有很多种，你可以通过以下几种方式：\n",
      "\n",
      "1. **手机应用**：下载并打开如“中国天气”、“百度天气”、“腾讯天气”等官方或第三方天气应用，输入城市名即可查看。\n",
      "\n",
      "2. **网页搜索**：在浏览器中输入“[城市名] 天气预报”或者访问各大气象网站，如中国气象局官网（www.weather.gov.cn）。\n",
      "\n",
      "3. **语音助手**：对于支持语音识别的设备，如智能手机、智能音箱，你可以直接问：“明天北京天气怎么样？”等。\n",
      "\n",
      "4. **短信查询**：部分地区可以通过发送短信到特定号码查询，但可能需要付费。\n",
      "\n",
      "5. **电视或广播**：传统媒体也会播报当地天气预报。\n",
      "\n",
      "6. **户外显示屏**：许多城市的公共区域会有电子显示屏显示实时和未来几天的天气预报。\n",
      "\n",
      "请根据你的实际需求选择合适的方式查询。\n"
     ]
    }
   ],
   "execution_count": 5
  },
  {
   "metadata": {},
   "cell_type": "code",
   "source": "",
   "id": "d1f3e56b201e15f6",
   "outputs": [],
   "execution_count": null
  }
 ],
 "metadata": {
  "kernelspec": {
   "display_name": "Python 3",
   "language": "python",
   "name": "python3"
  },
  "language_info": {
   "codemirror_mode": {
    "name": "ipython",
    "version": 2
   },
   "file_extension": ".py",
   "mimetype": "text/x-python",
   "name": "python",
   "nbconvert_exporter": "python",
   "pygments_lexer": "ipython2",
   "version": "2.7.6"
  }
 },
 "nbformat": 4,
 "nbformat_minor": 5
}
